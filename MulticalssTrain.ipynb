{
  "nbformat": 4,
  "nbformat_minor": 0,
  "metadata": {
    "colab": {
      "provenance": []
    },
    "kernelspec": {
      "name": "python3",
      "display_name": "Python 3"
    },
    "language_info": {
      "name": "python"
    }
  },
  "cells": [
    {
      "cell_type": "code",
      "execution_count": 1,
      "metadata": {
        "colab": {
          "base_uri": "https://localhost:8080/"
        },
        "id": "hIQzn4hCoUjh",
        "outputId": "eb9c3c6b-85e8-46b8-b3ce-97902708f6d2"
      },
      "outputs": [
        {
          "output_type": "stream",
          "name": "stdout",
          "text": [
            "Mounted at /content/drive\n"
          ]
        }
      ],
      "source": [
        "from google.colab import drive\n",
        "drive.mount('/content/drive')"
      ]
    },
    {
      "cell_type": "code",
      "source": [
        "import os\n",
        "import numpy as np\n",
        "import librosa\n",
        "import tensorflow as tf\n",
        "from sklearn.model_selection import train_test_split\n",
        "from sklearn.preprocessing import LabelEncoder\n",
        "from sklearn.metrics import classification_report, confusion_matrix\n",
        "import matplotlib.pyplot as plt\n",
        "import seaborn as sns\n",
        "\n",
        "# Parameters\n",
        "sample_rate = 22050  # Audio sampling rate\n",
        "n_mfcc = 40  # Number of MFCCs\n",
        "batch_size = 32  # Training batch size\n",
        "epochs = 30  # Number of training epochs\n",
        "\n",
        "# Dataset path\n",
        "dataset_path = '/content/drive/MyDrive/Dataset'  # Main dataset directory\n",
        "\n",
        "# Load and preprocess the dataset for three classes\n",
        "def load_data(data_dir):\n",
        "    \"\"\"\n",
        "    Load audio data for three classes:\n",
        "    - train: Only train sounds\n",
        "    - not_train: Without train sounds\n",
        "    - train_with_others: Train with other noises (urban passes train area)\n",
        "    \"\"\"\n",
        "    X = []  # Features\n",
        "    y = []  # Labels\n",
        "\n",
        "    # Define the three class folders\n",
        "    class_folders = ['train', 'not_train', 'train_with_others']\n",
        "\n",
        "    for class_name in class_folders:\n",
        "        folder_path = os.path.join(data_dir, class_name)\n",
        "        if os.path.exists(folder_path) and os.path.isdir(folder_path):\n",
        "            print(f\"Processing {class_name} folder...\")\n",
        "            file_count = 0\n",
        "            for file in os.listdir(folder_path):\n",
        "                file_path = os.path.join(folder_path, file)\n",
        "                if file.lower().endswith(('.wav', '.mp3', '.m4a', '.flac')):  # Audio file extensions\n",
        "                    try:\n",
        "                        # Load audio file\n",
        "                        audio, _ = librosa.load(file_path, sr=sample_rate)\n",
        "\n",
        "                        # Extract MFCC features\n",
        "                        mfcc = librosa.feature.mfcc(y=audio, sr=sample_rate, n_mfcc=n_mfcc)\n",
        "                        mfcc_mean = np.mean(mfcc.T, axis=0)\n",
        "\n",
        "                        X.append(mfcc_mean)\n",
        "                        y.append(class_name)\n",
        "                        file_count += 1\n",
        "\n",
        "                    except Exception as e:\n",
        "                        print(f\"Error processing {file_path}: {e}\")\n",
        "\n",
        "            print(f\"Processed {file_count} files from {class_name}\")\n",
        "        else:\n",
        "            print(f\"Warning: Folder {folder_path} not found!\")\n",
        "\n",
        "    return np.array(X), np.array(y)\n",
        "\n",
        "# Load data\n",
        "print(\"Loading dataset...\")\n",
        "X, y = load_data(dataset_path)\n",
        "\n",
        "print(f\"Total samples loaded: {len(X)}\")\n",
        "print(f\"Feature shape: {X.shape}\")\n",
        "print(f\"Class distribution: {np.unique(y, return_counts=True)}\")\n",
        "\n",
        "# Encode labels\n",
        "label_encoder = LabelEncoder()\n",
        "y_encoded = label_encoder.fit_transform(y)\n",
        "num_classes = len(label_encoder.classes_)\n",
        "\n",
        "print(f\"Classes: {label_encoder.classes_}\")\n",
        "print(f\"Number of classes: {num_classes}\")\n",
        "\n",
        "# Data splitting with specified ratios\n",
        "# First split: 80% training, 20% holdout\n",
        "X_train, X_holdout, y_train, y_holdout = train_test_split(\n",
        "    X, y_encoded, test_size=0.2, random_state=42, stratify=y_encoded\n",
        ")\n",
        "\n",
        "# Second split of holdout: 70% test (14% of total), 30% validation (6% of total)\n",
        "X_test, X_val, y_test, y_val = train_test_split(\n",
        "    X_holdout, y_holdout, test_size=0.3, random_state=42, stratify=y_holdout\n",
        ")\n",
        "\n",
        "print(f\"\\nData split summary:\")\n",
        "print(f\"Training set: {len(X_train)} samples ({len(X_train)/len(X)*100:.1f}%)\")\n",
        "print(f\"Test set: {len(X_test)} samples ({len(X_test)/len(X)*100:.1f}%)\")\n",
        "print(f\"Validation set: {len(X_val)} samples ({len(X_val)/len(X)*100:.1f}%)\")\n",
        "\n",
        "# Build the neural network model for three-class classification\n",
        "def build_model(input_shape, num_classes):\n",
        "    model = tf.keras.Sequential([\n",
        "        tf.keras.layers.Dense(128, activation='relu', input_shape=input_shape),\n",
        "        tf.keras.layers.Dropout(0.3),\n",
        "        tf.keras.layers.Dense(64, activation='relu'),\n",
        "        tf.keras.layers.Dropout(0.3),\n",
        "        tf.keras.layers.Dense(32, activation='relu'),\n",
        "        tf.keras.layers.Dropout(0.2),\n",
        "        tf.keras.layers.Dense(num_classes, activation='softmax')  # Softmax for multi-class\n",
        "    ])\n",
        "\n",
        "    model.compile(\n",
        "        optimizer='adam',\n",
        "        loss='sparse_categorical_crossentropy',  # For integer labels\n",
        "        metrics=['accuracy']\n",
        "    )\n",
        "    return model\n",
        "\n",
        "# Build and train the model\n",
        "input_shape = (X_train.shape[1],)\n",
        "model = build_model(input_shape, num_classes)\n",
        "\n",
        "print(\"\\nModel Architecture:\")\n",
        "model.summary()\n",
        "\n",
        "# Callbacks\n",
        "early_stopping = tf.keras.callbacks.EarlyStopping(\n",
        "    monitor='val_loss',\n",
        "    patience=7,\n",
        "    restore_best_weights=True,\n",
        "    verbose=1\n",
        ")\n",
        "\n",
        "reduce_lr = tf.keras.callbacks.ReduceLROnPlateau(\n",
        "    monitor='val_loss',\n",
        "    factor=0.2,\n",
        "    patience=5,\n",
        "    min_lr=0.0001,\n",
        "    verbose=1\n",
        ")\n",
        "\n",
        "# Train the model\n",
        "print(\"\\nStarting training...\")\n",
        "history = model.fit(\n",
        "    X_train, y_train,\n",
        "    validation_data=(X_val, y_val),\n",
        "    epochs=epochs,\n",
        "    batch_size=batch_size,\n",
        "    callbacks=[early_stopping, reduce_lr],\n",
        "    verbose=1\n",
        ")\n",
        "\n",
        "# Evaluate the model\n",
        "print(\"\\nEvaluating model...\")\n",
        "test_loss, test_accuracy = model.evaluate(X_test, y_test, verbose=0)\n",
        "print(f\"Test Accuracy: {test_accuracy * 100:.2f}%\")\n",
        "print(f\"Test Loss: {test_loss:.4f}\")\n",
        "\n",
        "# Generate predictions for detailed evaluation\n",
        "y_pred = model.predict(X_test)\n",
        "y_pred_classes = np.argmax(y_pred, axis=1)\n",
        "\n",
        "# Classification report\n",
        "print(\"\\nClassification Report:\")\n",
        "print(classification_report(y_test, y_pred_classes, target_names=label_encoder.classes_))\n",
        "\n",
        "# Confusion Matrix\n",
        "cm = confusion_matrix(y_test, y_pred_classes)\n",
        "plt.figure(figsize=(8, 6))\n",
        "sns.heatmap(cm, annot=True, fmt='d', cmap='Blues',\n",
        "            xticklabels=label_encoder.classes_,\n",
        "            yticklabels=label_encoder.classes_)\n",
        "plt.title('Confusion Matrix')\n",
        "plt.xlabel('Predicted')\n",
        "plt.ylabel('Actual')\n",
        "plt.show()\n",
        "\n",
        "# Plot training history\n",
        "fig, (ax1, ax2) = plt.subplots(1, 2, figsize=(12, 4))\n",
        "\n",
        "# Accuracy plot\n",
        "ax1.plot(history.history['accuracy'], label='Training Accuracy')\n",
        "ax1.plot(history.history['val_accuracy'], label='Validation Accuracy')\n",
        "ax1.set_title('Model Accuracy')\n",
        "ax1.set_xlabel('Epoch')\n",
        "ax1.set_ylabel('Accuracy')\n",
        "ax1.legend()\n",
        "\n",
        "# Loss plot\n",
        "ax2.plot(history.history['loss'], label='Training Loss')\n",
        "ax2.plot(history.history['val_loss'], label='Validation Loss')\n",
        "ax2.set_title('Model Loss')\n",
        "ax2.set_xlabel('Epoch')\n",
        "ax2.set_ylabel('Loss')\n",
        "ax2.legend()\n",
        "\n",
        "plt.tight_layout()\n",
        "plt.show()\n",
        "\n",
        "# Save the trained model\n",
        "model.save('audio_three_class_classifier_model.h5')\n",
        "print(\"Model saved as 'audio_three_class_classifier_model.h5'\")\n",
        "\n",
        "# Save label encoder\n",
        "import pickle\n",
        "with open('label_encoder.pkl', 'wb') as f:\n",
        "    pickle.dump(label_encoder, f)\n",
        "print(\"Label encoder saved as 'label_encoder.pkl'\")\n",
        "\n",
        "# Classify a new audio file\n",
        "def classify_audio(file_path, model, label_encoder):\n",
        "    \"\"\"\n",
        "    Classify a single audio file\n",
        "    \"\"\"\n",
        "    try:\n",
        "        # Load and preprocess audio\n",
        "        audio, _ = librosa.load(file_path, sr=sample_rate)\n",
        "        mfcc = librosa.feature.mfcc(y=audio, sr=sample_rate, n_mfcc=n_mfcc)\n",
        "        mfcc_mean = np.mean(mfcc.T, axis=0)\n",
        "        mfcc_mean = np.expand_dims(mfcc_mean, axis=0)\n",
        "\n",
        "        # Make prediction\n",
        "        prediction = model.predict(mfcc_mean, verbose=0)\n",
        "        predicted_class_idx = np.argmax(prediction)\n",
        "        predicted_label = label_encoder.inverse_transform([predicted_class_idx])[0]\n",
        "        confidence = prediction[0][predicted_class_idx] * 100\n",
        "\n",
        "        print(f\"File: {file_path}\")\n",
        "        print(f\"Predicted Label: {predicted_label}\")\n",
        "        print(f\"Confidence: {confidence:.2f}%\")\n",
        "        print(f\"All probabilities: {dict(zip(label_encoder.classes_, prediction[0]*100))}\")\n",
        "        print(\"-\" * 50)\n",
        "\n",
        "        return predicted_label, confidence\n",
        "\n",
        "    except Exception as e:\n",
        "        print(f\"Error classifying {file_path}: {e}\")\n",
        "        return None, None\n",
        "\n",
        "# Batch prediction\n",
        "def batch_classify_audio(file_paths, model, label_encoder):\n",
        "    \"\"\"\n",
        "    Classify multiple audio files\n",
        "    \"\"\"\n",
        "    results = []\n",
        "    for file_path in file_paths:\n",
        "        result = classify_audio(file_path, model, label_encoder)\n",
        "        results.append(result)\n",
        "    return results\n",
        "\n",
        "# Example usage\n",
        "test_audio_files = [\n",
        "    '/content/clip_20.wav',  # Add your test audio files here\n",
        "    # '/path/to/another/audio/file.wav'\n",
        "]\n",
        "\n",
        "if test_audio_files:\n",
        "    print(\"\\nClassifying test audio files:\")\n",
        "    batch_classify_audio(test_audio_files, model, label_encoder)"
      ],
      "metadata": {
        "colab": {
          "base_uri": "https://localhost:8080/",
          "height": 1000
        },
        "id": "GRFTon-prdnc",
        "outputId": "0accd169-5f1b-450b-9ec5-637006c3063a"
      },
      "execution_count": 2,
      "outputs": [
        {
          "output_type": "stream",
          "name": "stdout",
          "text": [
            "Loading dataset...\n",
            "Processing train folder...\n",
            "Processed 400 files from train\n",
            "Warning: Folder /content/drive/MyDrive/Dataset/not_train not found!\n",
            "Processing train_with_others folder...\n",
            "Processed 0 files from train_with_others\n",
            "Total samples loaded: 400\n",
            "Feature shape: (400, 40)\n",
            "Class distribution: (array(['train'], dtype='<U5'), array([400]))\n",
            "Classes: ['train']\n",
            "Number of classes: 1\n",
            "\n",
            "Data split summary:\n",
            "Training set: 320 samples (80.0%)\n",
            "Test set: 56 samples (14.0%)\n",
            "Validation set: 24 samples (6.0%)\n",
            "\n",
            "Model Architecture:\n"
          ]
        },
        {
          "output_type": "stream",
          "name": "stderr",
          "text": [
            "/usr/local/lib/python3.11/dist-packages/keras/src/layers/core/dense.py:87: UserWarning: Do not pass an `input_shape`/`input_dim` argument to a layer. When using Sequential models, prefer using an `Input(shape)` object as the first layer in the model instead.\n",
            "  super().__init__(activity_regularizer=activity_regularizer, **kwargs)\n"
          ]
        },
        {
          "output_type": "display_data",
          "data": {
            "text/plain": [
              "\u001b[1mModel: \"sequential\"\u001b[0m\n"
            ],
            "text/html": [
              "<pre style=\"white-space:pre;overflow-x:auto;line-height:normal;font-family:Menlo,'DejaVu Sans Mono',consolas,'Courier New',monospace\"><span style=\"font-weight: bold\">Model: \"sequential\"</span>\n",
              "</pre>\n"
            ]
          },
          "metadata": {}
        },
        {
          "output_type": "display_data",
          "data": {
            "text/plain": [
              "┏━━━━━━━━━━━━━━━━━━━━━━━━━━━━━━━━━┳━━━━━━━━━━━━━━━━━━━━━━━━┳━━━━━━━━━━━━━━━┓\n",
              "┃\u001b[1m \u001b[0m\u001b[1mLayer (type)                   \u001b[0m\u001b[1m \u001b[0m┃\u001b[1m \u001b[0m\u001b[1mOutput Shape          \u001b[0m\u001b[1m \u001b[0m┃\u001b[1m \u001b[0m\u001b[1m      Param #\u001b[0m\u001b[1m \u001b[0m┃\n",
              "┡━━━━━━━━━━━━━━━━━━━━━━━━━━━━━━━━━╇━━━━━━━━━━━━━━━━━━━━━━━━╇━━━━━━━━━━━━━━━┩\n",
              "│ dense (\u001b[38;5;33mDense\u001b[0m)                   │ (\u001b[38;5;45mNone\u001b[0m, \u001b[38;5;34m128\u001b[0m)            │         \u001b[38;5;34m5,248\u001b[0m │\n",
              "├─────────────────────────────────┼────────────────────────┼───────────────┤\n",
              "│ dropout (\u001b[38;5;33mDropout\u001b[0m)               │ (\u001b[38;5;45mNone\u001b[0m, \u001b[38;5;34m128\u001b[0m)            │             \u001b[38;5;34m0\u001b[0m │\n",
              "├─────────────────────────────────┼────────────────────────┼───────────────┤\n",
              "│ dense_1 (\u001b[38;5;33mDense\u001b[0m)                 │ (\u001b[38;5;45mNone\u001b[0m, \u001b[38;5;34m64\u001b[0m)             │         \u001b[38;5;34m8,256\u001b[0m │\n",
              "├─────────────────────────────────┼────────────────────────┼───────────────┤\n",
              "│ dropout_1 (\u001b[38;5;33mDropout\u001b[0m)             │ (\u001b[38;5;45mNone\u001b[0m, \u001b[38;5;34m64\u001b[0m)             │             \u001b[38;5;34m0\u001b[0m │\n",
              "├─────────────────────────────────┼────────────────────────┼───────────────┤\n",
              "│ dense_2 (\u001b[38;5;33mDense\u001b[0m)                 │ (\u001b[38;5;45mNone\u001b[0m, \u001b[38;5;34m32\u001b[0m)             │         \u001b[38;5;34m2,080\u001b[0m │\n",
              "├─────────────────────────────────┼────────────────────────┼───────────────┤\n",
              "│ dropout_2 (\u001b[38;5;33mDropout\u001b[0m)             │ (\u001b[38;5;45mNone\u001b[0m, \u001b[38;5;34m32\u001b[0m)             │             \u001b[38;5;34m0\u001b[0m │\n",
              "├─────────────────────────────────┼────────────────────────┼───────────────┤\n",
              "│ dense_3 (\u001b[38;5;33mDense\u001b[0m)                 │ (\u001b[38;5;45mNone\u001b[0m, \u001b[38;5;34m1\u001b[0m)              │            \u001b[38;5;34m33\u001b[0m │\n",
              "└─────────────────────────────────┴────────────────────────┴───────────────┘\n"
            ],
            "text/html": [
              "<pre style=\"white-space:pre;overflow-x:auto;line-height:normal;font-family:Menlo,'DejaVu Sans Mono',consolas,'Courier New',monospace\">┏━━━━━━━━━━━━━━━━━━━━━━━━━━━━━━━━━┳━━━━━━━━━━━━━━━━━━━━━━━━┳━━━━━━━━━━━━━━━┓\n",
              "┃<span style=\"font-weight: bold\"> Layer (type)                    </span>┃<span style=\"font-weight: bold\"> Output Shape           </span>┃<span style=\"font-weight: bold\">       Param # </span>┃\n",
              "┡━━━━━━━━━━━━━━━━━━━━━━━━━━━━━━━━━╇━━━━━━━━━━━━━━━━━━━━━━━━╇━━━━━━━━━━━━━━━┩\n",
              "│ dense (<span style=\"color: #0087ff; text-decoration-color: #0087ff\">Dense</span>)                   │ (<span style=\"color: #00d7ff; text-decoration-color: #00d7ff\">None</span>, <span style=\"color: #00af00; text-decoration-color: #00af00\">128</span>)            │         <span style=\"color: #00af00; text-decoration-color: #00af00\">5,248</span> │\n",
              "├─────────────────────────────────┼────────────────────────┼───────────────┤\n",
              "│ dropout (<span style=\"color: #0087ff; text-decoration-color: #0087ff\">Dropout</span>)               │ (<span style=\"color: #00d7ff; text-decoration-color: #00d7ff\">None</span>, <span style=\"color: #00af00; text-decoration-color: #00af00\">128</span>)            │             <span style=\"color: #00af00; text-decoration-color: #00af00\">0</span> │\n",
              "├─────────────────────────────────┼────────────────────────┼───────────────┤\n",
              "│ dense_1 (<span style=\"color: #0087ff; text-decoration-color: #0087ff\">Dense</span>)                 │ (<span style=\"color: #00d7ff; text-decoration-color: #00d7ff\">None</span>, <span style=\"color: #00af00; text-decoration-color: #00af00\">64</span>)             │         <span style=\"color: #00af00; text-decoration-color: #00af00\">8,256</span> │\n",
              "├─────────────────────────────────┼────────────────────────┼───────────────┤\n",
              "│ dropout_1 (<span style=\"color: #0087ff; text-decoration-color: #0087ff\">Dropout</span>)             │ (<span style=\"color: #00d7ff; text-decoration-color: #00d7ff\">None</span>, <span style=\"color: #00af00; text-decoration-color: #00af00\">64</span>)             │             <span style=\"color: #00af00; text-decoration-color: #00af00\">0</span> │\n",
              "├─────────────────────────────────┼────────────────────────┼───────────────┤\n",
              "│ dense_2 (<span style=\"color: #0087ff; text-decoration-color: #0087ff\">Dense</span>)                 │ (<span style=\"color: #00d7ff; text-decoration-color: #00d7ff\">None</span>, <span style=\"color: #00af00; text-decoration-color: #00af00\">32</span>)             │         <span style=\"color: #00af00; text-decoration-color: #00af00\">2,080</span> │\n",
              "├─────────────────────────────────┼────────────────────────┼───────────────┤\n",
              "│ dropout_2 (<span style=\"color: #0087ff; text-decoration-color: #0087ff\">Dropout</span>)             │ (<span style=\"color: #00d7ff; text-decoration-color: #00d7ff\">None</span>, <span style=\"color: #00af00; text-decoration-color: #00af00\">32</span>)             │             <span style=\"color: #00af00; text-decoration-color: #00af00\">0</span> │\n",
              "├─────────────────────────────────┼────────────────────────┼───────────────┤\n",
              "│ dense_3 (<span style=\"color: #0087ff; text-decoration-color: #0087ff\">Dense</span>)                 │ (<span style=\"color: #00d7ff; text-decoration-color: #00d7ff\">None</span>, <span style=\"color: #00af00; text-decoration-color: #00af00\">1</span>)              │            <span style=\"color: #00af00; text-decoration-color: #00af00\">33</span> │\n",
              "└─────────────────────────────────┴────────────────────────┴───────────────┘\n",
              "</pre>\n"
            ]
          },
          "metadata": {}
        },
        {
          "output_type": "display_data",
          "data": {
            "text/plain": [
              "\u001b[1m Total params: \u001b[0m\u001b[38;5;34m15,617\u001b[0m (61.00 KB)\n"
            ],
            "text/html": [
              "<pre style=\"white-space:pre;overflow-x:auto;line-height:normal;font-family:Menlo,'DejaVu Sans Mono',consolas,'Courier New',monospace\"><span style=\"font-weight: bold\"> Total params: </span><span style=\"color: #00af00; text-decoration-color: #00af00\">15,617</span> (61.00 KB)\n",
              "</pre>\n"
            ]
          },
          "metadata": {}
        },
        {
          "output_type": "display_data",
          "data": {
            "text/plain": [
              "\u001b[1m Trainable params: \u001b[0m\u001b[38;5;34m15,617\u001b[0m (61.00 KB)\n"
            ],
            "text/html": [
              "<pre style=\"white-space:pre;overflow-x:auto;line-height:normal;font-family:Menlo,'DejaVu Sans Mono',consolas,'Courier New',monospace\"><span style=\"font-weight: bold\"> Trainable params: </span><span style=\"color: #00af00; text-decoration-color: #00af00\">15,617</span> (61.00 KB)\n",
              "</pre>\n"
            ]
          },
          "metadata": {}
        },
        {
          "output_type": "display_data",
          "data": {
            "text/plain": [
              "\u001b[1m Non-trainable params: \u001b[0m\u001b[38;5;34m0\u001b[0m (0.00 B)\n"
            ],
            "text/html": [
              "<pre style=\"white-space:pre;overflow-x:auto;line-height:normal;font-family:Menlo,'DejaVu Sans Mono',consolas,'Courier New',monospace\"><span style=\"font-weight: bold\"> Non-trainable params: </span><span style=\"color: #00af00; text-decoration-color: #00af00\">0</span> (0.00 B)\n",
              "</pre>\n"
            ]
          },
          "metadata": {}
        },
        {
          "output_type": "stream",
          "name": "stdout",
          "text": [
            "\n",
            "Starting training...\n",
            "Epoch 1/30\n"
          ]
        },
        {
          "output_type": "stream",
          "name": "stderr",
          "text": [
            "/usr/local/lib/python3.11/dist-packages/keras/src/ops/nn.py:907: UserWarning: You are using a softmax over axis -1 of a tensor of shape (32, 1). This axis has size 1. The softmax operation will always return the value 1, which is likely not what you intended. Did you mean to use a sigmoid instead?\n",
            "  warnings.warn(\n"
          ]
        },
        {
          "output_type": "stream",
          "name": "stdout",
          "text": [
            "\u001b[1m10/10\u001b[0m \u001b[32m━━━━━━━━━━━━━━━━━━━━\u001b[0m\u001b[37m\u001b[0m \u001b[1m2s\u001b[0m 32ms/step - accuracy: 0.0000e+00 - loss: 0.0000e+00 - val_accuracy: 0.0000e+00 - val_loss: 0.0000e+00 - learning_rate: 0.0010\n",
            "Epoch 2/30\n",
            "\u001b[1m 1/10\u001b[0m \u001b[32m━━\u001b[0m\u001b[37m━━━━━━━━━━━━━━━━━━\u001b[0m \u001b[1m0s\u001b[0m 35ms/step - accuracy: 0.0000e+00 - loss: 0.0000e+00"
          ]
        },
        {
          "output_type": "stream",
          "name": "stderr",
          "text": [
            "/usr/local/lib/python3.11/dist-packages/keras/src/ops/nn.py:907: UserWarning: You are using a softmax over axis -1 of a tensor of shape (None, 1). This axis has size 1. The softmax operation will always return the value 1, which is likely not what you intended. Did you mean to use a sigmoid instead?\n",
            "  warnings.warn(\n"
          ]
        },
        {
          "output_type": "stream",
          "name": "stdout",
          "text": [
            "\b\b\b\b\b\b\b\b\b\b\b\b\b\b\b\b\b\b\b\b\b\b\b\b\b\b\b\b\b\b\b\b\b\b\b\b\b\b\b\b\b\b\b\b\b\b\b\b\b\b\b\b\b\b\b\b\b\b\b\b\b\b\b\b\b\b\b\b\b\b\b\b\b\b\b\b\b\b\b\b\b\r\u001b[1m10/10\u001b[0m \u001b[32m━━━━━━━━━━━━━━━━━━━━\u001b[0m\u001b[37m\u001b[0m \u001b[1m0s\u001b[0m 14ms/step - accuracy: 0.0000e+00 - loss: 0.0000e+00 - val_accuracy: 0.0000e+00 - val_loss: 0.0000e+00 - learning_rate: 0.0010\n",
            "Epoch 3/30\n",
            "\u001b[1m10/10\u001b[0m \u001b[32m━━━━━━━━━━━━━━━━━━━━\u001b[0m\u001b[37m\u001b[0m \u001b[1m0s\u001b[0m 9ms/step - accuracy: 0.0000e+00 - loss: 0.0000e+00 - val_accuracy: 0.0000e+00 - val_loss: 0.0000e+00 - learning_rate: 0.0010\n",
            "Epoch 4/30\n",
            "\u001b[1m10/10\u001b[0m \u001b[32m━━━━━━━━━━━━━━━━━━━━\u001b[0m\u001b[37m\u001b[0m \u001b[1m0s\u001b[0m 9ms/step - accuracy: 0.0000e+00 - loss: 0.0000e+00 - val_accuracy: 0.0000e+00 - val_loss: 0.0000e+00 - learning_rate: 0.0010\n",
            "Epoch 5/30\n",
            "\u001b[1m10/10\u001b[0m \u001b[32m━━━━━━━━━━━━━━━━━━━━\u001b[0m\u001b[37m\u001b[0m \u001b[1m0s\u001b[0m 10ms/step - accuracy: 0.0000e+00 - loss: 0.0000e+00 - val_accuracy: 0.0000e+00 - val_loss: 0.0000e+00 - learning_rate: 0.0010\n",
            "Epoch 6/30\n",
            "\u001b[1m 1/10\u001b[0m \u001b[32m━━\u001b[0m\u001b[37m━━━━━━━━━━━━━━━━━━\u001b[0m \u001b[1m0s\u001b[0m 25ms/step - accuracy: 0.0000e+00 - loss: 0.0000e+00\n",
            "Epoch 6: ReduceLROnPlateau reducing learning rate to 0.00020000000949949026.\n",
            "\u001b[1m10/10\u001b[0m \u001b[32m━━━━━━━━━━━━━━━━━━━━\u001b[0m\u001b[37m\u001b[0m \u001b[1m0s\u001b[0m 9ms/step - accuracy: 0.0000e+00 - loss: 0.0000e+00 - val_accuracy: 0.0000e+00 - val_loss: 0.0000e+00 - learning_rate: 0.0010\n",
            "Epoch 7/30\n",
            "\u001b[1m10/10\u001b[0m \u001b[32m━━━━━━━━━━━━━━━━━━━━\u001b[0m\u001b[37m\u001b[0m \u001b[1m0s\u001b[0m 9ms/step - accuracy: 0.0000e+00 - loss: 0.0000e+00 - val_accuracy: 0.0000e+00 - val_loss: 0.0000e+00 - learning_rate: 2.0000e-04\n",
            "Epoch 8/30\n",
            "\u001b[1m10/10\u001b[0m \u001b[32m━━━━━━━━━━━━━━━━━━━━\u001b[0m\u001b[37m\u001b[0m \u001b[1m0s\u001b[0m 15ms/step - accuracy: 0.0000e+00 - loss: 0.0000e+00 - val_accuracy: 0.0000e+00 - val_loss: 0.0000e+00 - learning_rate: 2.0000e-04\n",
            "Epoch 8: early stopping\n",
            "Restoring model weights from the end of the best epoch: 1.\n",
            "\n",
            "Evaluating model...\n",
            "Test Accuracy: 0.00%\n",
            "Test Loss: 0.0000\n",
            "\u001b[1m2/2\u001b[0m \u001b[32m━━━━━━━━━━━━━━━━━━━━\u001b[0m\u001b[37m\u001b[0m \u001b[1m0s\u001b[0m 60ms/step\n",
            "\n",
            "Classification Report:\n",
            "              precision    recall  f1-score   support\n",
            "\n",
            "       train       1.00      1.00      1.00        56\n",
            "\n",
            "    accuracy                           1.00        56\n",
            "   macro avg       1.00      1.00      1.00        56\n",
            "weighted avg       1.00      1.00      1.00        56\n",
            "\n"
          ]
        },
        {
          "output_type": "stream",
          "name": "stderr",
          "text": [
            "/usr/local/lib/python3.11/dist-packages/sklearn/metrics/_classification.py:407: UserWarning: A single label was found in 'y_true' and 'y_pred'. For the confusion matrix to have the correct shape, use the 'labels' parameter to pass all known labels.\n",
            "  warnings.warn(\n"
          ]
        },
        {
          "output_type": "display_data",
          "data": {
            "text/plain": [
              "<Figure size 800x600 with 2 Axes>"
            ],
            "image/png": "[encoded data removed]"
          },
          "metadata": {}
        },
        {
          "output_type": "display_data",
          "data": {
            "text/plain": [
              "<Figure size 1200x400 with 2 Axes>"
            ],
            "image/png": "[encoded data removed]"
          },
          "metadata": {}
        },
        {
          "output_type": "stream",
          "name": "stderr",
          "text": [
            "WARNING:absl:You are saving your model as an HDF5 file via `model.save()` or `keras.saving.save_model(model)`. This file format is considered legacy. We recommend using instead the native Keras format, e.g. `model.save('my_model.keras')` or `keras.saving.save_model(model, 'my_model.keras')`. \n"
          ]
        },
        {
          "output_type": "stream",
          "name": "stdout",
          "text": [
            "Model saved as 'audio_three_class_classifier_model.h5'\n",
            "Label encoder saved as 'label_encoder.pkl'\n",
            "\n",
            "Classifying test audio files:\n",
            "Error classifying /content/clip_20.wav: [Errno 2] No such file or directory: '/content/clip_20.wav'\n"
          ]
        },
        {
          "output_type": "stream",
          "name": "stderr",
          "text": [
            "/tmp/ipython-input-2-4220281717.py:212: UserWarning: PySoundFile failed. Trying audioread instead.\n",
            "  audio, _ = librosa.load(file_path, sr=sample_rate)\n",
            "/usr/local/lib/python3.11/dist-packages/librosa/core/audio.py:184: FutureWarning: librosa.core.audio.__audioread_load\n",
            "\tDeprecated as of librosa version 0.10.0.\n",
            "\tIt will be removed in librosa version 1.0.\n",
            "  y, sr_native = __audioread_load(path, offset, duration, dtype)\n"
          ]
        }
      ]
    },
    {
      "cell_type": "code",
      "source": [
        "import kagglehub\n",
        "# Download the dataset\n",
        "path = kagglehub.dataset_download(\"janboubiabderrahim/vehicle-sounds-dataset\")\n",
        "print(\"Path to dataset files:\", path)"
      ],
      "metadata": {
        "colab": {
          "base_uri": "https://localhost:8080/"
        },
        "id": "Y3R5oWaZrqQY",
        "outputId": "15cba93a-b88c-4636-aaba-1f5ebefbb6f3"
      },
      "execution_count": 3,
      "outputs": [
        {
          "output_type": "stream",
          "name": "stdout",
          "text": [
            "Downloading from https://www.kaggle.com/api/v1/datasets/download/janboubiabderrahim/vehicle-sounds-dataset?dataset_version_number=1...\n"
          ]
        },
        {
          "output_type": "stream",
          "name": "stderr",
          "text": [
            "100%|██████████| 6.90G/6.90G [01:23<00:00, 89.1MB/s]"
          ]
        },
        {
          "output_type": "stream",
          "name": "stdout",
          "text": [
            "Extracting files...\n"
          ]
        },
        {
          "output_type": "stream",
          "name": "stderr",
          "text": [
            "\n"
          ]
        },
        {
          "output_type": "stream",
          "name": "stdout",
          "text": [
            "Path to dataset files: /root/.cache/kagglehub/datasets/janboubiabderrahim/vehicle-sounds-dataset/versions/1\n"
          ]
        }
      ]
    },
    {
      "cell_type": "code",
      "source": [
        "import os\n",
        "import shutil\n",
        "import numpy as np\n",
        "import librosa\n",
        "import tensorflow as tf\n",
        "from sklearn.model_selection import train_test_split\n",
        "from sklearn.preprocessing import LabelEncoder\n",
        "import kagglehub\n",
        "\n",
        "# ─── Parameters ──────────────────────────────────────────────────────────────\n",
        "sample_rate         = 22050   # audio sampling rate\n",
        "n_mfcc              = 40      # MFCC coefficients\n",
        "batch_size          = 32\n",
        "epochs              = 30\n",
        "\n",
        "# ─── Paths ───────────────────────────────────────────────────────────────────\n",
        "kaggle_path         = kagglehub.dataset_download(\n",
        "                        \"janboubiabderrahim/vehicle-sounds-dataset\")\n",
        "print(\"Kaggle dataset at:\", kaggle_path)\n",
        "\n",
        "new_train_dir       = \"/content/drive/MyDrive/train_audio_clips\"      # pure‑train\n",
        "train_with_other_dir= \"/content/drive/MyDrive/Dataset/train_with_others\"       # mixed class\n",
        "\n",
        "# ─── Helper: copy extra data into proper sub‑folders ─────────────────────────\n",
        "def copy_folder_into_label(src_folder: str, target_root: str, label: str):\n",
        "    \"\"\"Copy every file inside `src_folder` to `target_root/<label>`.\"\"\"\n",
        "    dst = os.path.join(target_root, label)\n",
        "    os.makedirs(dst, exist_ok=True)\n",
        "    for f in os.listdir(src_folder):\n",
        "        sp, dp = os.path.join(src_folder, f), os.path.join(dst, f)\n",
        "        if not os.path.exists(dp):\n",
        "            shutil.copy(sp, dp)\n",
        "\n",
        "copy_folder_into_label(new_train_dir,        kaggle_path, \"train\")\n",
        "copy_folder_into_label(train_with_other_dir, kaggle_path, \"train_with_other\")\n",
        "\n",
        "# ─── Load and preprocess ────────────────────────────────────────────────────\n",
        "def load_data(root):\n",
        "    X, y = [], []\n",
        "    for label in os.listdir(root):\n",
        "        folder = os.path.join(root, label)\n",
        "        if not os.path.isdir(folder):\n",
        "            continue\n",
        "        for fname in os.listdir(folder):\n",
        "            fpath = os.path.join(folder, fname)\n",
        "            try:\n",
        "                audio, _ = librosa.load(fpath, sr=sample_rate)\n",
        "                mfcc  = librosa.feature.mfcc(y=audio, sr=sample_rate,\n",
        "                                             n_mfcc=n_mfcc)\n",
        "                X.append(np.mean(mfcc.T, axis=0))\n",
        "                # 3‑way labelling\n",
        "                if label == \"train\":\n",
        "                    y.append(\"train\")\n",
        "                elif label == \"train_with_other\":\n",
        "                    y.append(\"train_with_other\")\n",
        "                else:\n",
        "                    y.append(\"not_train\")\n",
        "            except Exception as e:\n",
        "                print(f\"⚠️  Skipped {fpath}: {e}\")\n",
        "    return np.array(X), np.array(y)\n",
        "\n",
        "X, y = load_data(kaggle_path)\n",
        "\n",
        "# ─── Encode labels (0,1,2) ──────────────────────────────────────────────────\n",
        "le          = LabelEncoder()\n",
        "y_encoded   = le.fit_transform(y)\n",
        "\n",
        "# ─── Splits: 80 / 14 / 6 ─────────────────────────────────────────────────────\n",
        "# First 80 % train, 20 % hold‑out\n",
        "X_train, X_hold, y_train, y_hold = train_test_split(\n",
        "    X, y_encoded, test_size=0.20, random_state=42, stratify=y_encoded)\n",
        "\n",
        "# From hold‑out, 70 % → test, 30 % → val\n",
        "X_test, X_val, y_test, y_val   = train_test_split(\n",
        "    X_hold, y_hold, test_size=0.30, random_state=42, stratify=y_hold)\n",
        "# Now: X_train 80 %, X_test 14 %, X_val 6 %\n",
        "\n",
        "# ─── Build 3‑class model ────────────────────────────────────────────────────\n",
        "def build_model(input_dim: int, n_classes: int = 3):\n",
        "    model = tf.keras.Sequential([\n",
        "        tf.keras.layers.Dense(128, activation=\"relu\", input_shape=(input_dim,)),\n",
        "        tf.keras.layers.Dropout(0.3),\n",
        "        tf.keras.layers.Dense(64, activation=\"relu\"),\n",
        "        tf.keras.layers.Dropout(0.3),\n",
        "        tf.keras.layers.Dense(n_classes, activation=\"softmax\")  # softmax!\n",
        "    ])\n",
        "    model.compile(optimizer=\"adam\",\n",
        "                  loss=\"sparse_categorical_crossentropy\",\n",
        "                  metrics=[\"accuracy\"])\n",
        "    return model\n",
        "\n",
        "model = build_model(X_train.shape[1])\n",
        "\n",
        "early_stop = tf.keras.callbacks.EarlyStopping(\n",
        "                monitor=\"val_loss\", patience=5, restore_best_weights=True)\n",
        "\n",
        "history = model.fit(\n",
        "    X_train, y_train,\n",
        "    validation_data=(X_val, y_val),\n",
        "    epochs=epochs,\n",
        "    batch_size=batch_size,\n",
        "    callbacks=[early_stop],\n",
        ")\n",
        "\n",
        "# ─── Evaluate ───────────────────────────────────────────────────────────────\n",
        "loss, acc = model.evaluate(X_test, y_test, verbose=0)\n",
        "print(f\"Test accuracy: {acc*100:.2f}%\")\n",
        "\n",
        "# ─── Save ───────────────────────────────────────────────────────────────────\n",
        "model.save(\"audio_classifier_3class.h5\")\n",
        "\n",
        "# ─── Inference helpers ──────────────────────────────────────────────────────\n",
        "def classify_audio(path, model, encoder):\n",
        "    \"\"\"Predict a single clip and print top class.\"\"\"\n",
        "    audio, _   = librosa.load(path, sr=sample_rate)\n",
        "    mfcc_mean  = np.mean(librosa.feature.mfcc(\n",
        "                        y=audio, sr=sample_rate, n_mfcc=n_mfcc).T, axis=0)\n",
        "    probs      = model.predict(np.expand_dims(mfcc_mean, axis=0), verbose=0)\n",
        "    pred_idx   = np.argmax(probs, axis=1)[0]\n",
        "    print(f\"{os.path.basename(path)} → {encoder.inverse_transform([pred_idx])[0]} \"\n",
        "          f\"({probs[0][pred_idx]*100:.1f}% confidence)\")\n",
        "\n",
        "def batch_classify_audio(files, model, encoder):\n",
        "    for f in files:\n",
        "        classify_audio(f, model, encoder)\n",
        "\n",
        "# Example\n",
        "test_files = [\"/content/clip_20.wav\", \"/content/clip_30.wav\"]\n",
        "batch_classify_audio(test_files, model, le)\n"
      ],
      "metadata": {
        "colab": {
          "base_uri": "https://localhost:8080/"
        },
        "id": "J-J3jtnkvnwG",
        "outputId": "5d4314a4-5211-431e-f992-d8d57d91351a"
      },
      "execution_count": null,
      "outputs": [
        {
          "output_type": "stream",
          "name": "stdout",
          "text": [
            "Kaggle dataset at: /root/.cache/kagglehub/datasets/janboubiabderrahim/vehicle-sounds-dataset/versions/1\n"
          ]
        }
      ]
    },
    {
      "cell_type": "code",
      "source": [],
      "metadata": {
        "id": "a4m25YNLv7x2"
      },
      "execution_count": null,
      "outputs": []
    }
  ]
}